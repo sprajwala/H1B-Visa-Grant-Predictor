{
 "cells": [
  {
   "cell_type": "markdown",
   "metadata": {},
   "source": [
    "### Import required packages"
   ]
  },
  {
   "cell_type": "code",
   "execution_count": 1,
   "metadata": {},
   "outputs": [],
   "source": [
    "from pyspark import SparkConf, SparkContext\n",
    "from pyspark.sql import Row\n",
    "from pyspark.sql import SQLContext\n",
    "from pyspark.ml.feature import StringIndexer, OneHotEncoder\n",
    "from pyspark.mllib.regression import LabeledPoint\n",
    "from pyspark.mllib.classification import LogisticRegressionWithLBFGS, LogisticRegressionModel\n",
    "from pyspark.mllib.classification import NaiveBayes\n",
    "from pyspark.mllib.tree import RandomForest, RandomForestModel\n",
    "from pyspark.mllib.tree import DecisionTree, DecisionTreeModel\n",
    "from pyspark.mllib.util import MLUtils\n",
    "from time import time\n",
    "import re\n",
    "import numpy as np\n",
    "import matplotlib.pyplot as plt"
   ]
  },
  {
   "cell_type": "code",
   "execution_count": 2,
   "metadata": {},
   "outputs": [],
   "source": [
    "conf = SparkConf().setMaster(\"local\").setAppName(\"Project_BigData\")\n",
    "sc = SparkContext.getOrCreate(conf = conf)\n",
    "sqlcon = SQLContext.getOrCreate(sc)"
   ]
  },
  {
   "cell_type": "code",
   "execution_count": 3,
   "metadata": {},
   "outputs": [],
   "source": [
    "pat1 = re.compile(r'\"([a-xA-Z0-9. ,]+), ([a-xA-Z0-9. ,]+)\"')\n",
    "pat2 = re.compile(r'\"([,]+)\"')\n",
    "keep = ['CASE_STATUS','EMPLOYER_NAME','EMPLOYER_STATE',\\\n",
    "        'AGENT_REPRESENTING_EMPLOYER','JOB_TITLE','SOC_NAME','NAICS_CODE','TOTAL_WORKERS',\\\n",
    "        'NEW_EMPLOYMENT','CONTINUED_EMPLOYMENT','CHANGE_PREVIOUS_EMPLOYMENT',\\\n",
    "        'NEW_CONCURRENT_EMPLOYMENT','CHANGE_EMPLOYER','AMENDED_PETITION','FULL_TIME_POSITION',\\\n",
    "        'PREVAILING_WAGE','H1B_DEPENDENT','SUPPORT_H1B','WORKSITE_STATE','CASE_SUBMITTED']\n",
    "#We need to decide how to use the date 'CASE_SUBMITTED', add back to the list above once decided.\n",
    "categorical = {\"CASE_STATUS\":\"CASE_STATUS_C\", \"EMPLOYER_NAME\":\"EMPLOYER_NAME_C\",\\\n",
    "              \"EMPLOYER_STATE\":\"EMPLOYER_STATE_C\",\"AGENT_REPRESENTING_EMPLOYER\":\"AGENT_REPRESENTING_EMPLOYER_C\",\\\n",
    "              \"JOB_TITLE\":\"JOB_TITLE_C\",\"SOC_NAME\":\"SOC_NAME_C\",\"NAICS_CODE\":\"NAICS_CODE_C\",\\\n",
    "              \"FULL_TIME_POSITION\":\"FULL_TIME_POSITION_C\",\"H1B_DEPENDENT\":\"H1B_DEPENDENT_C\",\\\n",
    "              \"WORKSITE_STATE\":\"WORKSITE_STATE_C\",\"SUPPORT_H1B\":\"SUPPORT_H1B_C\"}\n",
    "target = [\"CASE_STATUS_C\",\"CASE_SUBMITTED\"]"
   ]
  },
  {
   "cell_type": "markdown",
   "metadata": {},
   "source": [
    "## Data Preparation\n",
    "### Involves several methods to cleanup data -\n",
    "\n",
    "1. Remove commas within quotes strings\n",
    "2. Convert wage to yearly wage\n",
    "3. Create Rows for the dataframe\n",
    "4. Convert categorical variables to codes"
   ]
  },
  {
   "cell_type": "code",
   "execution_count": 4,
   "metadata": {},
   "outputs": [],
   "source": [
    "def replaceCommaWithinQuotes(line):\n",
    "    '''\n",
    "    Remove commas within quotes with some words, recursion makes sure we reomve all such commas\n",
    "    '''\n",
    "    if len(pat1.findall(line)) == 0:\n",
    "        return line\n",
    "    line = pat1.sub( r'\"\\1 \\2\"', line )\n",
    "    return replaceCommaWithinQuotes(line)"
   ]
  },
  {
   "cell_type": "code",
   "execution_count": 5,
   "metadata": {},
   "outputs": [],
   "source": [
    "def yearlyWage(data_dict):\n",
    "    '''\n",
    "    Converts the prevailing wage to yearly.\n",
    "    '''\n",
    "    sal = 0.0\n",
    "    try:\n",
    "        sal = float(data_dict['PREVAILING_WAGE'])\n",
    "    except:\n",
    "        sal = 0.0\n",
    "        #do nothing\n",
    "    if data_dict['PW_UNIT_OF_PAY'] == 'Hour':\n",
    "        sal = sal*40*52 #40 hrs/week,52 weeks/yr\n",
    "    if data_dict['PW_UNIT_OF_PAY'] == 'Week':\n",
    "        sal = sal*52    #52 weeks/yr\n",
    "    if data_dict['PW_UNIT_OF_PAY'] == 'Bi-Weekly':\n",
    "        sal = sal*26    #52 weeks/yr,hence 26 bi-weeks \n",
    "    if data_dict['PW_UNIT_OF_PAY'] == 'Month':\n",
    "        sal = sal*12    #12 months/yr\n",
    "    if data_dict['PW_UNIT_OF_PAY'] == 'Year':\n",
    "        sal == sal\n",
    "    data_dict['PREVAILING_WAGE'] = sal\n",
    "    return data_dict"
   ]
  },
  {
   "cell_type": "code",
   "execution_count": 6,
   "metadata": {},
   "outputs": [],
   "source": [
    "def createRow(line, headers):\n",
    "    '''\n",
    "    Returns a dictionary with headers as key and their values as the values\n",
    "    '''\n",
    "    data_dict = {}\n",
    "    #Replace comma, within words between two quotes, with blank\n",
    "    line = replaceCommaWithinQuotes(line) #This line may still have just comma within quotes-\",\"\n",
    "    #line = pat2.sub(r'\"\"', line) - something weird is happening because of this line\n",
    "\n",
    "    data_list = line.split(\",\")\n",
    "    j = 0 #another index\n",
    "    for i in range(len(headers)):\n",
    "        if data_list[j] == '\"': #In case we encounter a \" we avoid it and move ahead.\n",
    "            j = j+1\n",
    "        if headers[i] == \"\":\n",
    "            data_dict[\"S_NO\"] = int(data_list[j])\n",
    "        else:\n",
    "            data_dict[headers[i]] = data_list[j]\n",
    "        j = j+1\n",
    "    #We make the prevailing wage yearly\n",
    "    data_dict = yearlyWage(data_dict)\n",
    "    date_submitted = data_dict[\"CASE_SUBMITTED\"]\n",
    "    data_dict[\"CASE_SUBMITTED\"] = date_submitted[-4:]\n",
    "    return data_dict"
   ]
  },
  {
   "cell_type": "code",
   "execution_count": 7,
   "metadata": {},
   "outputs": [],
   "source": [
    "def convertToCategorical(columns, dataframe):\n",
    "    '''\n",
    "    Converts each column in dataframe to its corresponding Cateforical column.\n",
    "    columns is a dict representing the column as key and new colmn as value.\n",
    "    '''\n",
    "    for column in columns:\n",
    "        indexer = StringIndexer(inputCol=column, outputCol=columns[column])\n",
    "        dataframe = indexer.fit(dataframe).transform(dataframe)\n",
    "    return dataframe"
   ]
  },
  {
   "cell_type": "code",
   "execution_count": 8,
   "metadata": {},
   "outputs": [],
   "source": [
    "def createLabeledPoints(line):\n",
    "    '''\n",
    "    Converts each value to a float and returns as LabeledPoint.\n",
    "    If conversion fails then null is returned.\n",
    "    '''\n",
    "    values = []\n",
    "    for x in line:\n",
    "        try:\n",
    "            values.append(float(x))\n",
    "        except:\n",
    "            return None\n",
    "    return LabeledPoint(values[0], values[1:])"
   ]
  },
  {
   "cell_type": "code",
   "execution_count": 9,
   "metadata": {},
   "outputs": [],
   "source": [
    "h1b_data = sc.textFile(\\\n",
    "           \"D:\\\\PBDA\\\\Project\\\\Data\\\\H-1B_Disclosure_Data_FY17.csv\")"
   ]
  },
  {
   "cell_type": "code",
   "execution_count": 10,
   "metadata": {},
   "outputs": [],
   "source": [
    "headers_string = h1b_data.take(1)[0]\n",
    "headers = headers_string.split(\",\")\n",
    "h1b_data = h1b_data.filter(lambda x: x != headers_string)"
   ]
  },
  {
   "cell_type": "code",
   "execution_count": 11,
   "metadata": {},
   "outputs": [
    {
     "data": {
      "text/plain": [
       "DataFrame[AGENT_ATTORNEY_CITY: string, AGENT_ATTORNEY_NAME: string, AGENT_ATTORNEY_STATE: string, AGENT_REPRESENTING_EMPLOYER: string, AMENDED_PETITION: string, CASE_NUMBER: string, CASE_STATUS: string, CASE_SUBMITTED: string, CHANGE_EMPLOYER: string, CHANGE_PREVIOUS_EMPLOYMENT: string, CONTINUED_EMPLOYMENT: string, DECISION_DATE: string, EMPLOYER_ADDRESS: string, EMPLOYER_BUSINESS_DBA: string, EMPLOYER_CITY: string, EMPLOYER_COUNTRY: string, EMPLOYER_NAME: string, EMPLOYER_PHONE: string, EMPLOYER_PHONE_EXT: string, EMPLOYER_POSTAL_CODE: string, EMPLOYER_PROVINCE: string, EMPLOYER_STATE: string, EMPLOYMENT_END_DATE: string, EMPLOYMENT_START_DATE: string, FULL_TIME_POSITION: string, H1B_DEPENDENT: string, JOB_TITLE: string, LABOR_CON_AGREE: string, NAICS_CODE: string, NEW_CONCURRENT_EMPLOYMENT: string, NEW_EMPLOYMENT: string, ORIGINAL_CERT_DATE: string, PREVAILING_WAGE: double, PUBLIC_DISCLOSURE_LOCATION: string, PW_SOURCE: string, PW_SOURCE_OTHER: string, PW_SOURCE_YEAR: string, PW_UNIT_OF_PAY: string, PW_WAGE_LEVEL: string, SOC_CODE: string, SOC_NAME: string, SUPPORT_H1B: string, TOTAL_WORKERS: string, VISA_CLASS: string, WAGE_RATE_OF_PAY_FROM: string, WAGE_RATE_OF_PAY_TO: string, WAGE_UNIT_OF_PAY: string, WILLFUL_VIOLATOR: string, WORKSITE_CITY: string, WORKSITE_COUNTY: string, WORKSITE_POSTAL_CODE: string, WORKSITE_STATE: string]"
      ]
     },
     "execution_count": 11,
     "metadata": {},
     "output_type": "execute_result"
    }
   ],
   "source": [
    "h1_data_map = h1b_data.map(lambda x: Row(**createRow(x, headers)))\n",
    "h1b_data_frame = sqlcon.createDataFrame(h1_data_map).cache()\n",
    "h1b_data_frame"
   ]
  },
  {
   "cell_type": "code",
   "execution_count": 12,
   "metadata": {},
   "outputs": [
    {
     "data": {
      "text/plain": [
       "[Row(AGENT_ATTORNEY_CITY='NEW YORK', AGENT_ATTORNEY_NAME='\"ELLSWORTH CHAD\"', AGENT_ATTORNEY_STATE='NY', AGENT_REPRESENTING_EMPLOYER='Y', AMENDED_PETITION='0', CASE_NUMBER='I-200-16055-173457', CASE_STATUS='CERTIFIED-WITHDRAWN', CASE_SUBMITTED='2016', CHANGE_EMPLOYER='0', CHANGE_PREVIOUS_EMPLOYMENT='0', CONTINUED_EMPLOYMENT='0', DECISION_DATE='01/10/2016', EMPLOYER_ADDRESS='2500 LAKE COOK ROAD', EMPLOYER_BUSINESS_DBA='N/A', EMPLOYER_CITY='RIVERWOODS', EMPLOYER_COUNTRY='UNITED STATES OF AMERICA', EMPLOYER_NAME='DISCOVER PRODUCTS INC.', EMPLOYER_PHONE='2244050900', EMPLOYER_PHONE_EXT='', EMPLOYER_POSTAL_CODE='60015', EMPLOYER_PROVINCE='N/A', EMPLOYER_STATE='IL', EMPLOYMENT_END_DATE='10/08/2019', EMPLOYMENT_START_DATE='10/08/2016', FULL_TIME_POSITION='Y', H1B_DEPENDENT='\"67', JOB_TITLE='ASSOCIATE DATA INTEGRATION', LABOR_CON_AGREE='N', NAICS_CODE='522210', NEW_CONCURRENT_EMPLOYMENT='0', NEW_EMPLOYMENT='1', ORIGINAL_CERT_DATE='LAKE', PREVAILING_WAGE=0.0, PUBLIC_DISCLOSURE_LOCATION='N', PW_SOURCE='Level I', PW_SOURCE_OTHER='2015', PW_SOURCE_YEAR='OES', PW_UNIT_OF_PAY='197.00\"', PW_WAGE_LEVEL='Year', SOC_CODE='15-1121', SOC_NAME='COMPUTER SYSTEMS ANALYSTS', SUPPORT_H1B='Year', TOTAL_WORKERS='1', VISA_CLASS='H-1B', WAGE_RATE_OF_PAY_FROM='OFLC ONLINE DATA CENTER', WAGE_RATE_OF_PAY_TO='\"65', WAGE_UNIT_OF_PAY='811.00\"', WILLFUL_VIOLATOR='320.00\"', WORKSITE_CITY='NA', WORKSITE_COUNTY='Y', WORKSITE_POSTAL_CODE='RIVERWOODS', WORKSITE_STATE=''),\n",
       " Row(AGENT_ATTORNEY_CITY='NEW YORK', AGENT_ATTORNEY_NAME='\"ELLSWORTH CHAD\"', AGENT_ATTORNEY_STATE='NY', AGENT_REPRESENTING_EMPLOYER='Y', AMENDED_PETITION='0', CASE_NUMBER='I-200-16064-557834', CASE_STATUS='CERTIFIED-WITHDRAWN', CASE_SUBMITTED='2016', CHANGE_EMPLOYER='0', CHANGE_PREVIOUS_EMPLOYMENT='0', CONTINUED_EMPLOYMENT='0', DECISION_DATE='01/10/2016', EMPLOYER_ADDRESS='2500 LAKE COOK ROAD', EMPLOYER_BUSINESS_DBA='N/A', EMPLOYER_CITY='RIVERWOODS', EMPLOYER_COUNTRY='UNITED STATES OF AMERICA', EMPLOYER_NAME='DFS SERVICES LLC', EMPLOYER_PHONE='2244050900', EMPLOYER_PHONE_EXT='', EMPLOYER_POSTAL_CODE='60015', EMPLOYER_PROVINCE='N/A', EMPLOYER_STATE='IL', EMPLOYMENT_END_DATE='16/08/2019', EMPLOYMENT_START_DATE='16/08/2016', FULL_TIME_POSITION='Y', H1B_DEPENDENT='\"57', JOB_TITLE='SENIOR ASSOCIATE', LABOR_CON_AGREE='N', NAICS_CODE='522210', NEW_CONCURRENT_EMPLOYMENT='0', NEW_EMPLOYMENT='1', ORIGINAL_CERT_DATE='LAKE', PREVAILING_WAGE=0.0, PUBLIC_DISCLOSURE_LOCATION='N', PW_SOURCE='N/A', PW_SOURCE_OTHER='2015', PW_SOURCE_YEAR='Other', PW_UNIT_OF_PAY='800.00\"', PW_WAGE_LEVEL='Year', SOC_CODE='15-2031', SOC_NAME='OPERATIONS RESEARCH ANALYSTS', SUPPORT_H1B='Year', TOTAL_WORKERS='1', VISA_CLASS='H-1B', WAGE_RATE_OF_PAY_FROM='TOWERS WATSON DATA SERVICES 2015 CSR PROFESSIONAL (ADMINISTRATIVE AND SALES) C', WAGE_RATE_OF_PAY_TO='\"53', WAGE_UNIT_OF_PAY='000.00\"', WILLFUL_VIOLATOR='200.00\"', WORKSITE_CITY='NA', WORKSITE_COUNTY='Y', WORKSITE_POSTAL_CODE='RIVERWOODS', WORKSITE_STATE='')]"
      ]
     },
     "execution_count": 12,
     "metadata": {},
     "output_type": "execute_result"
    }
   ],
   "source": [
    "h1b_data_frame = h1b_data_frame.where(h1b_data_frame['VISA_CLASS'] == 'H-1B')\n",
    "h1b_data_frame.take(2)"
   ]
  },
  {
   "cell_type": "code",
   "execution_count": 13,
   "metadata": {},
   "outputs": [
    {
     "data": {
      "text/html": [
       "<div>\n",
       "<style scoped>\n",
       "    .dataframe tbody tr th:only-of-type {\n",
       "        vertical-align: middle;\n",
       "    }\n",
       "\n",
       "    .dataframe tbody tr th {\n",
       "        vertical-align: top;\n",
       "    }\n",
       "\n",
       "    .dataframe thead th {\n",
       "        text-align: right;\n",
       "    }\n",
       "</style>\n",
       "<table border=\"1\" class=\"dataframe\">\n",
       "  <thead>\n",
       "    <tr style=\"text-align: right;\">\n",
       "      <th></th>\n",
       "      <th>AGENT_ATTORNEY_CITY</th>\n",
       "      <th>AGENT_ATTORNEY_NAME</th>\n",
       "      <th>AGENT_ATTORNEY_STATE</th>\n",
       "      <th>AGENT_REPRESENTING_EMPLOYER</th>\n",
       "      <th>AMENDED_PETITION</th>\n",
       "      <th>CASE_NUMBER</th>\n",
       "      <th>CASE_STATUS</th>\n",
       "      <th>CASE_SUBMITTED</th>\n",
       "      <th>CHANGE_EMPLOYER</th>\n",
       "      <th>CHANGE_PREVIOUS_EMPLOYMENT</th>\n",
       "      <th>...</th>\n",
       "      <th>TOTAL_WORKERS</th>\n",
       "      <th>VISA_CLASS</th>\n",
       "      <th>WAGE_RATE_OF_PAY_FROM</th>\n",
       "      <th>WAGE_RATE_OF_PAY_TO</th>\n",
       "      <th>WAGE_UNIT_OF_PAY</th>\n",
       "      <th>WILLFUL_VIOLATOR</th>\n",
       "      <th>WORKSITE_CITY</th>\n",
       "      <th>WORKSITE_COUNTY</th>\n",
       "      <th>WORKSITE_POSTAL_CODE</th>\n",
       "      <th>WORKSITE_STATE</th>\n",
       "    </tr>\n",
       "  </thead>\n",
       "  <tbody>\n",
       "    <tr>\n",
       "      <th>0</th>\n",
       "      <td>MINNEAPOLIS</td>\n",
       "      <td>\"YOST PETER\"</td>\n",
       "      <td>MN</td>\n",
       "      <td>Y</td>\n",
       "      <td>0</td>\n",
       "      <td>I-200-16270-978090</td>\n",
       "      <td>CERTIFIED</td>\n",
       "      <td>2016</td>\n",
       "      <td>0</td>\n",
       "      <td>0</td>\n",
       "      <td>...</td>\n",
       "      <td>1</td>\n",
       "      <td>H-1B</td>\n",
       "      <td>WILLIS TOWERS WATSON:PROFESSIONAL (TECHNICAL &amp;...</td>\n",
       "      <td>\"95</td>\n",
       "      <td>400.00\"</td>\n",
       "      <td>638.00\"</td>\n",
       "      <td>NA</td>\n",
       "      <td></td>\n",
       "      <td>PELLA</td>\n",
       "      <td></td>\n",
       "    </tr>\n",
       "    <tr>\n",
       "      <th>1</th>\n",
       "      <td>MINNEAPOLIS</td>\n",
       "      <td>\"RAJAN ANITHA\"</td>\n",
       "      <td>MN</td>\n",
       "      <td>Y</td>\n",
       "      <td>0</td>\n",
       "      <td>I-200-16267-263193</td>\n",
       "      <td>CERTIFIED</td>\n",
       "      <td>2016</td>\n",
       "      <td>0</td>\n",
       "      <td>0</td>\n",
       "      <td>...</td>\n",
       "      <td>1</td>\n",
       "      <td>H-1B</td>\n",
       "      <td>OFLC ONLINE DATA CENTER</td>\n",
       "      <td>\"70</td>\n",
       "      <td>000.00\"</td>\n",
       "      <td>Year</td>\n",
       "      <td></td>\n",
       "      <td></td>\n",
       "      <td>DAKOTA</td>\n",
       "      <td>EAGAN</td>\n",
       "    </tr>\n",
       "    <tr>\n",
       "      <th>2</th>\n",
       "      <td>MINNEAPOLIS</td>\n",
       "      <td>\"RAJAN ANITHA\"</td>\n",
       "      <td>MN</td>\n",
       "      <td>Y</td>\n",
       "      <td>0</td>\n",
       "      <td>I-200-16272-589451</td>\n",
       "      <td>DENIED</td>\n",
       "      <td>2016</td>\n",
       "      <td>1</td>\n",
       "      <td>0</td>\n",
       "      <td>...</td>\n",
       "      <td>1</td>\n",
       "      <td>H-1B</td>\n",
       "      <td>OFLC ONLINE DATA CENTER</td>\n",
       "      <td>\"90</td>\n",
       "      <td>000.00\"</td>\n",
       "      <td>Year</td>\n",
       "      <td></td>\n",
       "      <td></td>\n",
       "      <td>WASHINGTON</td>\n",
       "      <td>WOODBURY</td>\n",
       "    </tr>\n",
       "    <tr>\n",
       "      <th>3</th>\n",
       "      <td>MINNEAPOLIS</td>\n",
       "      <td>\"SCHNEIDER DEBRA\"</td>\n",
       "      <td>MN</td>\n",
       "      <td>Y</td>\n",
       "      <td>0</td>\n",
       "      <td>I-200-15070-893773</td>\n",
       "      <td>CERTIFIED-WITHDRAWN</td>\n",
       "      <td>2016</td>\n",
       "      <td>0</td>\n",
       "      <td>0</td>\n",
       "      <td>...</td>\n",
       "      <td>1</td>\n",
       "      <td>H-1B</td>\n",
       "      <td>OFLC ONLINE DATA CENTER</td>\n",
       "      <td>\"56</td>\n",
       "      <td>000.00\"</td>\n",
       "      <td>Year</td>\n",
       "      <td></td>\n",
       "      <td></td>\n",
       "      <td>NEW YORK</td>\n",
       "      <td>NEW YORK</td>\n",
       "    </tr>\n",
       "    <tr>\n",
       "      <th>4</th>\n",
       "      <td>MINNEAPOLIS</td>\n",
       "      <td>\"KILIBARDA SARAH\"</td>\n",
       "      <td>MN</td>\n",
       "      <td>Y</td>\n",
       "      <td>0</td>\n",
       "      <td>I-200-16238-825863</td>\n",
       "      <td>CERTIFIED</td>\n",
       "      <td>2016</td>\n",
       "      <td>0</td>\n",
       "      <td>0</td>\n",
       "      <td>...</td>\n",
       "      <td>1</td>\n",
       "      <td>H-1B</td>\n",
       "      <td>OFLC ONLINE DATA CENTER</td>\n",
       "      <td>\"113</td>\n",
       "      <td>256.00\"</td>\n",
       "      <td>600.00\"</td>\n",
       "      <td>NA</td>\n",
       "      <td>Y</td>\n",
       "      <td>BASKING RIDGE</td>\n",
       "      <td></td>\n",
       "    </tr>\n",
       "    <tr>\n",
       "      <th>...</th>\n",
       "      <td>...</td>\n",
       "      <td>...</td>\n",
       "      <td>...</td>\n",
       "      <td>...</td>\n",
       "      <td>...</td>\n",
       "      <td>...</td>\n",
       "      <td>...</td>\n",
       "      <td>...</td>\n",
       "      <td>...</td>\n",
       "      <td>...</td>\n",
       "      <td>...</td>\n",
       "      <td>...</td>\n",
       "      <td>...</td>\n",
       "      <td>...</td>\n",
       "      <td>...</td>\n",
       "      <td>...</td>\n",
       "      <td>...</td>\n",
       "      <td>...</td>\n",
       "      <td>...</td>\n",
       "      <td>...</td>\n",
       "      <td>...</td>\n",
       "    </tr>\n",
       "    <tr>\n",
       "      <th>2147</th>\n",
       "      <td>MINNEAPOLIS</td>\n",
       "      <td>\"SCHNEIDER DEBRA\"</td>\n",
       "      <td>MN</td>\n",
       "      <td>Y</td>\n",
       "      <td>0</td>\n",
       "      <td>I-200-16292-134762</td>\n",
       "      <td>CERTIFIED-WITHDRAWN</td>\n",
       "      <td>2016</td>\n",
       "      <td>0</td>\n",
       "      <td>1</td>\n",
       "      <td>...</td>\n",
       "      <td>1</td>\n",
       "      <td>H-1B</td>\n",
       "      <td>OFLC ONLINE DATA CENTER</td>\n",
       "      <td>\"101</td>\n",
       "      <td>353.00\"</td>\n",
       "      <td>Year</td>\n",
       "      <td></td>\n",
       "      <td></td>\n",
       "      <td>MIDDLESEX</td>\n",
       "      <td>BILLERICA</td>\n",
       "    </tr>\n",
       "    <tr>\n",
       "      <th>2148</th>\n",
       "      <td>MINNEAPOLIS</td>\n",
       "      <td>\"MEDEIROS JOHN\"</td>\n",
       "      <td>MN</td>\n",
       "      <td>Y</td>\n",
       "      <td>0</td>\n",
       "      <td>I-200-17026-165039</td>\n",
       "      <td>CERTIFIED-WITHDRAWN</td>\n",
       "      <td>2017</td>\n",
       "      <td>0</td>\n",
       "      <td>0</td>\n",
       "      <td>...</td>\n",
       "      <td>1</td>\n",
       "      <td>H-1B</td>\n",
       "      <td>OFLC ONLINE DATA CENTER</td>\n",
       "      <td>\"225</td>\n",
       "      <td>000.00\"</td>\n",
       "      <td>Year</td>\n",
       "      <td></td>\n",
       "      <td></td>\n",
       "      <td>CLEARWATER</td>\n",
       "      <td>BAGLEY</td>\n",
       "    </tr>\n",
       "    <tr>\n",
       "      <th>2149</th>\n",
       "      <td>MINNEAPOLIS</td>\n",
       "      <td>\"MEDEIROS JOHN\"</td>\n",
       "      <td>MN</td>\n",
       "      <td>Y</td>\n",
       "      <td>0</td>\n",
       "      <td>I-200-17058-458206</td>\n",
       "      <td>CERTIFIED-WITHDRAWN</td>\n",
       "      <td>2017</td>\n",
       "      <td>0</td>\n",
       "      <td>0</td>\n",
       "      <td>...</td>\n",
       "      <td>1</td>\n",
       "      <td>H-1B</td>\n",
       "      <td>OFLC ONLINE DATA CENTER</td>\n",
       "      <td>\"225</td>\n",
       "      <td>000.00\"</td>\n",
       "      <td>Year</td>\n",
       "      <td></td>\n",
       "      <td></td>\n",
       "      <td>CLEARWATER COUNTY</td>\n",
       "      <td>BAGLEY</td>\n",
       "    </tr>\n",
       "    <tr>\n",
       "      <th>2150</th>\n",
       "      <td>MINNEAPOLIS</td>\n",
       "      <td>\"WELLS ALLISON\"</td>\n",
       "      <td>MN</td>\n",
       "      <td>Y</td>\n",
       "      <td>0</td>\n",
       "      <td>I-200-17044-101912</td>\n",
       "      <td>CERTIFIED-WITHDRAWN</td>\n",
       "      <td>2017</td>\n",
       "      <td>0</td>\n",
       "      <td>0</td>\n",
       "      <td>...</td>\n",
       "      <td>1</td>\n",
       "      <td>H-1B</td>\n",
       "      <td>OFLC ONLINE DATA CENTER</td>\n",
       "      <td>\"60</td>\n",
       "      <td>000.00\"</td>\n",
       "      <td>Year</td>\n",
       "      <td></td>\n",
       "      <td></td>\n",
       "      <td>MARATHON</td>\n",
       "      <td>SCHOFIELD</td>\n",
       "    </tr>\n",
       "    <tr>\n",
       "      <th>2151</th>\n",
       "      <td>MINNEAPOLIS</td>\n",
       "      <td>\"WELLS ALLISON\"</td>\n",
       "      <td>MN</td>\n",
       "      <td>Y</td>\n",
       "      <td>0</td>\n",
       "      <td>I-200-17044-373894</td>\n",
       "      <td>CERTIFIED-WITHDRAWN</td>\n",
       "      <td>2017</td>\n",
       "      <td>0</td>\n",
       "      <td>0</td>\n",
       "      <td>...</td>\n",
       "      <td>1</td>\n",
       "      <td>H-1B</td>\n",
       "      <td>OFLC ONLINE DATA CENTER</td>\n",
       "      <td>\"63</td>\n",
       "      <td>000.00\"</td>\n",
       "      <td>Year</td>\n",
       "      <td></td>\n",
       "      <td></td>\n",
       "      <td>CLEVELAND</td>\n",
       "      <td>SHELBY</td>\n",
       "    </tr>\n",
       "  </tbody>\n",
       "</table>\n",
       "<p>2152 rows × 52 columns</p>\n",
       "</div>"
      ],
      "text/plain": [
       "     AGENT_ATTORNEY_CITY AGENT_ATTORNEY_NAME AGENT_ATTORNEY_STATE  \\\n",
       "0            MINNEAPOLIS        \"YOST PETER\"                   MN   \n",
       "1            MINNEAPOLIS      \"RAJAN ANITHA\"                   MN   \n",
       "2            MINNEAPOLIS      \"RAJAN ANITHA\"                   MN   \n",
       "3            MINNEAPOLIS   \"SCHNEIDER DEBRA\"                   MN   \n",
       "4            MINNEAPOLIS   \"KILIBARDA SARAH\"                   MN   \n",
       "...                  ...                 ...                  ...   \n",
       "2147         MINNEAPOLIS   \"SCHNEIDER DEBRA\"                   MN   \n",
       "2148         MINNEAPOLIS     \"MEDEIROS JOHN\"                   MN   \n",
       "2149         MINNEAPOLIS     \"MEDEIROS JOHN\"                   MN   \n",
       "2150         MINNEAPOLIS     \"WELLS ALLISON\"                   MN   \n",
       "2151         MINNEAPOLIS     \"WELLS ALLISON\"                   MN   \n",
       "\n",
       "     AGENT_REPRESENTING_EMPLOYER AMENDED_PETITION         CASE_NUMBER  \\\n",
       "0                              Y                0  I-200-16270-978090   \n",
       "1                              Y                0  I-200-16267-263193   \n",
       "2                              Y                0  I-200-16272-589451   \n",
       "3                              Y                0  I-200-15070-893773   \n",
       "4                              Y                0  I-200-16238-825863   \n",
       "...                          ...              ...                 ...   \n",
       "2147                           Y                0  I-200-16292-134762   \n",
       "2148                           Y                0  I-200-17026-165039   \n",
       "2149                           Y                0  I-200-17058-458206   \n",
       "2150                           Y                0  I-200-17044-101912   \n",
       "2151                           Y                0  I-200-17044-373894   \n",
       "\n",
       "              CASE_STATUS CASE_SUBMITTED CHANGE_EMPLOYER  \\\n",
       "0               CERTIFIED           2016               0   \n",
       "1               CERTIFIED           2016               0   \n",
       "2                  DENIED           2016               1   \n",
       "3     CERTIFIED-WITHDRAWN           2016               0   \n",
       "4               CERTIFIED           2016               0   \n",
       "...                   ...            ...             ...   \n",
       "2147  CERTIFIED-WITHDRAWN           2016               0   \n",
       "2148  CERTIFIED-WITHDRAWN           2017               0   \n",
       "2149  CERTIFIED-WITHDRAWN           2017               0   \n",
       "2150  CERTIFIED-WITHDRAWN           2017               0   \n",
       "2151  CERTIFIED-WITHDRAWN           2017               0   \n",
       "\n",
       "     CHANGE_PREVIOUS_EMPLOYMENT  ... TOTAL_WORKERS VISA_CLASS  \\\n",
       "0                             0  ...             1       H-1B   \n",
       "1                             0  ...             1       H-1B   \n",
       "2                             0  ...             1       H-1B   \n",
       "3                             0  ...             1       H-1B   \n",
       "4                             0  ...             1       H-1B   \n",
       "...                         ...  ...           ...        ...   \n",
       "2147                          1  ...             1       H-1B   \n",
       "2148                          0  ...             1       H-1B   \n",
       "2149                          0  ...             1       H-1B   \n",
       "2150                          0  ...             1       H-1B   \n",
       "2151                          0  ...             1       H-1B   \n",
       "\n",
       "                                  WAGE_RATE_OF_PAY_FROM WAGE_RATE_OF_PAY_TO  \\\n",
       "0     WILLIS TOWERS WATSON:PROFESSIONAL (TECHNICAL &...                 \"95   \n",
       "1                               OFLC ONLINE DATA CENTER                 \"70   \n",
       "2                               OFLC ONLINE DATA CENTER                 \"90   \n",
       "3                               OFLC ONLINE DATA CENTER                 \"56   \n",
       "4                               OFLC ONLINE DATA CENTER                \"113   \n",
       "...                                                 ...                 ...   \n",
       "2147                            OFLC ONLINE DATA CENTER                \"101   \n",
       "2148                            OFLC ONLINE DATA CENTER                \"225   \n",
       "2149                            OFLC ONLINE DATA CENTER                \"225   \n",
       "2150                            OFLC ONLINE DATA CENTER                 \"60   \n",
       "2151                            OFLC ONLINE DATA CENTER                 \"63   \n",
       "\n",
       "     WAGE_UNIT_OF_PAY WILLFUL_VIOLATOR WORKSITE_CITY WORKSITE_COUNTY  \\\n",
       "0             400.00\"          638.00\"            NA                   \n",
       "1             000.00\"             Year                                 \n",
       "2             000.00\"             Year                                 \n",
       "3             000.00\"             Year                                 \n",
       "4             256.00\"          600.00\"            NA               Y   \n",
       "...               ...              ...           ...             ...   \n",
       "2147          353.00\"             Year                                 \n",
       "2148          000.00\"             Year                                 \n",
       "2149          000.00\"             Year                                 \n",
       "2150          000.00\"             Year                                 \n",
       "2151          000.00\"             Year                                 \n",
       "\n",
       "     WORKSITE_POSTAL_CODE WORKSITE_STATE  \n",
       "0                   PELLA                 \n",
       "1                  DAKOTA          EAGAN  \n",
       "2              WASHINGTON       WOODBURY  \n",
       "3                NEW YORK       NEW YORK  \n",
       "4           BASKING RIDGE                 \n",
       "...                   ...            ...  \n",
       "2147            MIDDLESEX      BILLERICA  \n",
       "2148           CLEARWATER         BAGLEY  \n",
       "2149    CLEARWATER COUNTY         BAGLEY  \n",
       "2150             MARATHON      SCHOFIELD  \n",
       "2151            CLEVELAND         SHELBY  \n",
       "\n",
       "[2152 rows x 52 columns]"
      ]
     },
     "execution_count": 13,
     "metadata": {},
     "output_type": "execute_result"
    }
   ],
   "source": [
    "h1b_data_frame_0 = h1b_data_frame.where(h1b_data_frame['AGENT_ATTORNEY_CITY'] == 'MINNEAPOLIS' )\n",
    "h1b_data_frame_0.toPandas()"
   ]
  },
  {
   "cell_type": "code",
   "execution_count": 57,
   "metadata": {},
   "outputs": [],
   "source": [
    "h1b_data_frame_reduced, dummy = h1b_data_frame.randomSplit([0.1, 0.9])"
   ]
  },
  {
   "cell_type": "code",
   "execution_count": 58,
   "metadata": {},
   "outputs": [],
   "source": [
    "h1b_data_frame_1 = convertToCategorical(categorical, h1b_data_frame_reduced)"
   ]
  },
  {
   "cell_type": "code",
   "execution_count": 59,
   "metadata": {
    "scrolled": true
   },
   "outputs": [],
   "source": [
    "keeps = [x for x in keep if x not in categorical.keys() ] + list(categorical.values())\n",
    "keeps = list(target) + [x for x in keeps if x not in target]\n",
    "h1b_data_frame_2 = h1b_data_frame_1[keeps].cache()"
   ]
  },
  {
   "cell_type": "code",
   "execution_count": 60,
   "metadata": {},
   "outputs": [],
   "source": [
    "h1b_labeled_points = h1b_data_frame_2.rdd.map(createLabeledPoints)\n",
    "h1b_labeled_points = h1b_labeled_points.filter(lambda x : x != None)"
   ]
  },
  {
   "cell_type": "code",
   "execution_count": 18,
   "metadata": {},
   "outputs": [
    {
     "data": {
      "text/plain": [
       "[LabeledPoint(1.0, [2015.0,1.0,1.0,0.0,0.0,0.0,0.0,0.0,0.0,460.0,5.0,1.0,0.0,2.0,16.0,0.0,0.0,1166.0,1.0]),\n",
       " LabeledPoint(1.0, [2015.0,1.0,1.0,0.0,0.0,0.0,0.0,0.0,0.0,1348.0,0.0,1.0,443.0,79.0,2.0,0.0,0.0,169.0,0.0]),\n",
       " LabeledPoint(1.0, [2013.0,1.0,1.0,0.0,0.0,0.0,0.0,0.0,0.0,2485.0,4.0,1.0,485.0,26.0,21.0,0.0,0.0,1160.0,0.0]),\n",
       " LabeledPoint(1.0, [2013.0,1.0,1.0,0.0,0.0,0.0,0.0,0.0,0.0,270.0,7.0,1.0,33.0,26.0,2.0,0.0,0.0,15.0,0.0]),\n",
       " LabeledPoint(1.0, [2013.0,1.0,0.0,1.0,0.0,0.0,0.0,0.0,0.0,10.0,10.0,1.0,449.0,0.0,19.0,0.0,0.0,13.0,0.0]),\n",
       " LabeledPoint(1.0, [2013.0,1.0,0.0,1.0,0.0,0.0,0.0,0.0,0.0,1399.0,9.0,1.0,3.0,0.0,33.0,0.0,0.0,2277.0,1.0]),\n",
       " LabeledPoint(2.0, [2013.0,1.0,1.0,0.0,0.0,0.0,0.0,0.0,0.0,402.0,1.0,1.0,244.0,22.0,2.0,0.0,0.0,9.0,0.0]),\n",
       " LabeledPoint(1.0, [2013.0,1.0,0.0,0.0,0.0,0.0,1.0,0.0,0.0,10117.0,0.0,1.0,9306.0,89.0,461.0,0.0,0.0,3.0,0.0]),\n",
       " LabeledPoint(1.0, [2013.0,1.0,1.0,0.0,0.0,0.0,0.0,0.0,0.0,5338.0,0.0,1.0,55.0,26.0,58.0,0.0,0.0,225.0,0.0]),\n",
       " LabeledPoint(1.0, [2013.0,1.0,0.0,1.0,0.0,0.0,0.0,0.0,0.0,10.0,10.0,1.0,3900.0,1.0,19.0,0.0,0.0,13.0,0.0])]"
      ]
     },
     "execution_count": 18,
     "metadata": {},
     "output_type": "execute_result"
    }
   ],
   "source": [
    "h1b_labeled_points.take(10)"
   ]
  },
  {
   "cell_type": "code",
   "execution_count": 19,
   "metadata": {},
   "outputs": [
    {
     "data": {
      "text/plain": [
       "DataFrame[features: vector, label: double]"
      ]
     },
     "execution_count": 19,
     "metadata": {},
     "output_type": "execute_result"
    }
   ],
   "source": [
    "df=h1b_labeled_points.toDF()\n",
    "df"
   ]
  },
  {
   "cell_type": "code",
   "execution_count": 20,
   "metadata": {},
   "outputs": [
    {
     "data": {
      "text/plain": [
       "array([1., 2., 3., 0.])"
      ]
     },
     "execution_count": 20,
     "metadata": {},
     "output_type": "execute_result"
    }
   ],
   "source": [
    "df.toPandas()['label'].unique()"
   ]
  },
  {
   "cell_type": "markdown",
   "metadata": {},
   "source": [
    "# Vizualization"
   ]
  },
  {
   "cell_type": "code",
   "execution_count": 21,
   "metadata": {},
   "outputs": [],
   "source": [
    "def barPlot(dataframe, color=\"Blue\"):\n",
    "    \"\"\"\n",
    "    Takes a dataframe with two columns and creates bar plot.\n",
    "    The first column is the labels and second is the count.\n",
    "    The dataframe is a pyspark dataframe\n",
    "    \"\"\"\n",
    "    X = []\n",
    "    Y = []\n",
    "    for x in dataframe.collect():\n",
    "        X.append(x[0])\n",
    "        Y.append(x[1])\n",
    "    pos = np.arange(len(X))\n",
    "    \n",
    "    plt.barh(pos, Y, align='center', color=color)\n",
    "    plt.yticks(pos, X)"
   ]
  },
  {
   "cell_type": "code",
   "execution_count": 22,
   "metadata": {},
   "outputs": [],
   "source": [
    "def top_10_companies_by_status(h1b_data_frame, status):\n",
    "    status_by_company = h1b_data_frame.where(h1b_data_frame['CASE_STATUS'] == status)\n",
    "    #1. Map by Employer name\n",
    "    #2. Reduce by count\n",
    "    #3. Map with count as key, employer as value this makes the sorting easier as you can sortByKey\n",
    "    status_by_company = status_by_company.rdd.map(lambda x : (x.EMPLOYER_NAME, 1)).\\\n",
    "                    reduceByKey(lambda x,y : x+y).map(lambda x : (x[1],x[0]))\n",
    "    status_by_company_sorted = status_by_company.sortByKey(ascending=False)\n",
    "    status_by_company_sorted_10 = status_by_company_sorted.toDF().limit(10)\n",
    "    status_by_company_sorted_10 = status_by_company_sorted_10.rdd.map(lambda x : (x[1],x[0])).toDF()\n",
    "    return status_by_company_sorted_10"
   ]
  },
  {
   "cell_type": "code",
   "execution_count": 23,
   "metadata": {},
   "outputs": [
    {
     "data": {
      "image/png": "[encoded data removed]",
      "text/plain": [
       "<Figure size 432x288 with 1 Axes>"
      ]
     },
     "metadata": {
      "needs_background": "light"
     },
     "output_type": "display_data"
    }
   ],
   "source": [
    "barPlot(top_10_companies_by_status(h1b_data_frame, \"DENIED\"))\n",
    "plt.show()"
   ]
  },
  {
   "cell_type": "code",
   "execution_count": 24,
   "metadata": {},
   "outputs": [
    {
     "data": {
      "image/png": "[encoded data removed]",
      "text/plain": [
       "<Figure size 432x288 with 1 Axes>"
      ]
     },
     "metadata": {
      "needs_background": "light"
     },
     "output_type": "display_data"
    }
   ],
   "source": [
    "#Top 10 cmpanies with Certified status\n",
    "barPlot(top_10_companies_by_status(h1b_data_frame, \"CERTIFIED\"),\"Green\")\n",
    "plt.show()"
   ]
  },
  {
   "cell_type": "code",
   "execution_count": 25,
   "metadata": {},
   "outputs": [],
   "source": [
    "prevailingwage_by_state = h1b_data_frame.rdd.map(lambda x :(x.EMPLOYER_STATE, (x.PREVAILING_WAGE, 1)))\\\n",
    "    .reduceByKey(lambda x, y : (x[0]+y[0], x[1]+y[1]))\\\n",
    "    .mapValues(lambda x : float(x[0])/float(x[1]))\\\n",
    "    .map(lambda x : (x[1],x[0]))\n",
    "prevailingwage_by_state_sorted = prevailingwage_by_state.sortByKey(ascending=False)\n",
    "prevailingwage_by_state_sorted_10 = prevailingwage_by_state_sorted.filter(lambda x: x[1]!= \"\").toDF().limit(10)"
   ]
  },
  {
   "cell_type": "code",
   "execution_count": 26,
   "metadata": {},
   "outputs": [
    {
     "data": {
      "text/plain": [
       "DataFrame[_1: double, _2: string]"
      ]
     },
     "execution_count": 26,
     "metadata": {},
     "output_type": "execute_result"
    }
   ],
   "source": [
    "prevailingwage_by_state_sorted_10"
   ]
  },
  {
   "cell_type": "code",
   "execution_count": 27,
   "metadata": {},
   "outputs": [
    {
     "data": {
      "image/png": "[encoded data removed]",
      "text/plain": [
       "<Figure size 432x288 with 1 Axes>"
      ]
     },
     "metadata": {
      "needs_background": "light"
     },
     "output_type": "display_data"
    }
   ],
   "source": [
    "prevailingwage_by_state_sorted_10 = prevailingwage_by_state_sorted_10.rdd.map(lambda x : (x[1],x[0]))\n",
    "barPlot(prevailingwage_by_state_sorted_10)\n",
    "plt.show()"
   ]
  },
  {
   "cell_type": "code",
   "execution_count": 28,
   "metadata": {},
   "outputs": [
    {
     "name": "stdout",
     "output_type": "stream",
     "text": [
      "Total number of applicants in Michigan : 26393\n",
      "Total number of applicants in RHode Island : 1019\n"
     ]
    }
   ],
   "source": [
    "# Analysis of why CA is behind GA in avg wage for H-1B workers\n",
    "CA_applicants = h1b_data_frame.where(h1b_data_frame['EMPLOYER_STATE'] == 'MI')\n",
    "print('Total number of applicants in Michigan : ' + str(CA_applicants.count()))\n",
    "\n",
    "GA_applicants=h1b_data_frame.where(h1b_data_frame['EMPLOYER_STATE'] == 'RI')\n",
    "print('Total number of applicants in RHode Island : ' + str(GA_applicants.count()))"
   ]
  },
  {
   "cell_type": "code",
   "execution_count": 29,
   "metadata": {},
   "outputs": [],
   "source": [
    "def year_wise_status(h1b_data_frame, status):\n",
    "    status_by_year = h1b_data_frame\\\n",
    "    .rdd.map(lambda x : (x.CASE_SUBMITTED, (1, 1 if x.CASE_STATUS == status else 0)))\\\n",
    "    .reduceByKey(lambda x, y : (x[0]+y[0], x[1]+y[1]))\\\n",
    "    .mapValues(lambda x : float(x[1])*100/float(x[0]))\\\n",
    "    .sortByKey()\n",
    "    return status_by_year"
   ]
  },
  {
   "cell_type": "code",
   "execution_count": 30,
   "metadata": {},
   "outputs": [
    {
     "data": {
      "image/png": "[encoded data removed]",
      "text/plain": [
       "<Figure size 432x288 with 1 Axes>"
      ]
     },
     "metadata": {
      "needs_background": "light"
     },
     "output_type": "display_data"
    }
   ],
   "source": [
    "barPlot(year_wise_status(h1b_data_frame, \"CERTIFIED\"), \"Green\")\n",
    "barPlot(year_wise_status(h1b_data_frame, \"DENIED\"), \"Red\")\n",
    "plt.show()"
   ]
  },
  {
   "cell_type": "code",
   "execution_count": 31,
   "metadata": {},
   "outputs": [],
   "source": [
    "def top_10_soc_by_status(h1b_data_frame, status):\n",
    "    status_by_soc = h1b_data_frame.where(h1b_data_frame['CASE_STATUS'] == status)\n",
    "    #1. Map by SOC\n",
    "    #2. Reduce by count\n",
    "    #3. Map with count as key, SOC as value this makes the sorting easier as you can sortByKey\n",
    "    status_by_soc = status_by_soc.rdd.map(lambda x : (x.SOC_NAME, 1)).\\\n",
    "                    reduceByKey(lambda x,y : x+y).map(lambda x : (x[1],x[0]))\n",
    "    status_by_soc_sorted = status_by_soc.sortByKey(ascending=False)\n",
    "    status_by_soc_sorted_10 = status_by_soc_sorted.toDF().limit(10)\n",
    "    status_by_soc_sorted_10 = status_by_soc_sorted_10.rdd.map(lambda x : (x[1],x[0])).toDF()\n",
    "    return status_by_soc_sorted_10"
   ]
  },
  {
   "cell_type": "code",
   "execution_count": 32,
   "metadata": {},
   "outputs": [
    {
     "data": {
      "image/png": "[encoded data removed]",
      "text/plain": [
       "<Figure size 432x288 with 1 Axes>"
      ]
     },
     "metadata": {
      "needs_background": "light"
     },
     "output_type": "display_data"
    },
    {
     "data": {
      "image/png": "[encoded data removed]",
      "text/plain": [
       "<Figure size 432x288 with 1 Axes>"
      ]
     },
     "metadata": {
      "needs_background": "light"
     },
     "output_type": "display_data"
    }
   ],
   "source": [
    "#Top 10 soc with status\n",
    "barPlot(top_10_soc_by_status(h1b_data_frame, \"DENIED\"),\"RED\")\n",
    "plt.show()\n",
    "\n",
    "barPlot(top_10_soc_by_status(h1b_data_frame, \"CERTIFIED\"),\"GREEN\")\n",
    "plt.show()"
   ]
  },
  {
   "cell_type": "code",
   "execution_count": 33,
   "metadata": {},
   "outputs": [
    {
     "data": {
      "image/png": "[encoded data removed]",
      "text/plain": [
       "<Figure size 432x288 with 1 Axes>"
      ]
     },
     "metadata": {
      "needs_background": "light"
     },
     "output_type": "display_data"
    }
   ],
   "source": [
    "class_count = h1b_data_frame.rdd.map(lambda x : (x.CASE_STATUS, 1)).reduceByKey(lambda x, y : x+y)\n",
    "barPlot(class_count)\n",
    "plt.show()"
   ]
  },
  {
   "cell_type": "markdown",
   "metadata": {},
   "source": [
    "## Data Modelling"
   ]
  },
  {
   "cell_type": "code",
   "execution_count": 61,
   "metadata": {},
   "outputs": [],
   "source": [
    "#Define a method to evaludate any model\n",
    "def evaluate_model(test, model):\n",
    "    '''\n",
    "    Returns accuracy based on correct predictions\n",
    "    '''\n",
    "    predictions = model.predict(test.map(lambda x: x.features))\n",
    "    predictionAndLabel = test.map(lambda y: y.label).zip(predictions)\n",
    "    return 100*predictionAndLabel.filter(lambda x : x[0] == x[1]).count()/float(test.count())"
   ]
  },
  {
   "cell_type": "code",
   "execution_count": 62,
   "metadata": {},
   "outputs": [],
   "source": [
    "#Split the data into train and test data\n",
    "training, test = h1b_labeled_points.randomSplit([0.7, 0.3])"
   ]
  },
  {
   "cell_type": "code",
   "execution_count": 63,
   "metadata": {},
   "outputs": [],
   "source": [
    "#Train a NaiveBayes model and record time for training\n",
    "model_nb = NaiveBayes.train(training, 1.0)"
   ]
  },
  {
   "cell_type": "code",
   "execution_count": 64,
   "metadata": {},
   "outputs": [
    {
     "name": "stdout",
     "output_type": "stream",
     "text": [
      "Accuracy = 3.6393805309734515\n"
     ]
    }
   ],
   "source": [
    "accuracy = evaluate_model(test, model_nb)\n",
    "print('Accuracy = ' + str(accuracy))"
   ]
  },
  {
   "cell_type": "code",
   "execution_count": 38,
   "metadata": {},
   "outputs": [],
   "source": [
    "#Now train a logistic regression model\n",
    "model_lg = LogisticRegressionWithLBFGS.train(training, numClasses=4)"
   ]
  },
  {
   "cell_type": "code",
   "execution_count": 39,
   "metadata": {},
   "outputs": [
    {
     "name": "stdout",
     "output_type": "stream",
     "text": [
      "Accuracy = 87.72392570612155\n"
     ]
    }
   ],
   "source": [
    "accuracy = evaluate_model(test, model_lg)\n",
    "print('Accuracy = ' + str(accuracy))"
   ]
  },
  {
   "cell_type": "code",
   "execution_count": 40,
   "metadata": {},
   "outputs": [],
   "source": [
    "model_dt = DecisionTree.trainClassifier(training, numClasses=4, maxDepth=4,\n",
    "                                     categoricalFeaturesInfo={},\n",
    "                                     impurity='gini', maxBins=32)"
   ]
  },
  {
   "cell_type": "code",
   "execution_count": 41,
   "metadata": {},
   "outputs": [
    {
     "name": "stdout",
     "output_type": "stream",
     "text": [
      "Accuracy = 90.2681613364106\n"
     ]
    }
   ],
   "source": [
    "#Evaluate the model on test data\n",
    "accuracy = evaluate_model(test, model_dt)\n",
    "print('Accuracy = ' + str(accuracy))"
   ]
  },
  {
   "cell_type": "code",
   "execution_count": 42,
   "metadata": {},
   "outputs": [],
   "source": [
    "model_rf = RandomForest.trainClassifier(training, numClasses=4, categoricalFeaturesInfo={},\n",
    "                                     numTrees=3, featureSubsetStrategy=\"auto\",\n",
    "                                     impurity='gini', maxDepth=4, maxBins=32)"
   ]
  },
  {
   "cell_type": "code",
   "execution_count": 43,
   "metadata": {},
   "outputs": [
    {
     "name": "stdout",
     "output_type": "stream",
     "text": [
      "Accuracy = 87.82283767446972\n"
     ]
    }
   ],
   "source": [
    "#Evaluate the model on test data\n",
    "accuracy = evaluate_model(test, model_rf)\n",
    "print('Accuracy = ' + str(accuracy))"
   ]
  },
  {
   "cell_type": "code",
   "execution_count": null,
   "metadata": {},
   "outputs": [],
   "source": []
  }
 ],
 "metadata": {
  "kernelspec": {
   "display_name": "Python 3",
   "language": "python",
   "name": "python3"
  },
  "language_info": {
   "codemirror_mode": {
    "name": "ipython",
    "version": 3
   },
   "file_extension": ".py",
   "mimetype": "text/x-python",
   "name": "python",
   "nbconvert_exporter": "python",
   "pygments_lexer": "ipython3",
   "version": "3.7.3"
  }
 },
 "nbformat": 4,
 "nbformat_minor": 2
}
